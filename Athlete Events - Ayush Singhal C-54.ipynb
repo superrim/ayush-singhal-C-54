{
 "cells": [
  {
   "cell_type": "code",
   "execution_count": 1,
   "id": "c29fa3f5",
   "metadata": {},
   "outputs": [],
   "source": [
    "import pandas as pd\n",
    "import matplotlib.pyplot as plt"
   ]
  },
  {
   "cell_type": "code",
   "execution_count": 2,
   "id": "e3cb6f8b",
   "metadata": {},
   "outputs": [],
   "source": [
    "dt = pd.read_csv(\"athlete_events.csv\")"
   ]
  },
  {
   "cell_type": "code",
   "execution_count": 3,
   "id": "f535688e",
   "metadata": {},
   "outputs": [
    {
     "data": {
      "text/html": [
       "<div>\n",
       "<style scoped>\n",
       "    .dataframe tbody tr th:only-of-type {\n",
       "        vertical-align: middle;\n",
       "    }\n",
       "\n",
       "    .dataframe tbody tr th {\n",
       "        vertical-align: top;\n",
       "    }\n",
       "\n",
       "    .dataframe thead th {\n",
       "        text-align: right;\n",
       "    }\n",
       "</style>\n",
       "<table border=\"1\" class=\"dataframe\">\n",
       "  <thead>\n",
       "    <tr style=\"text-align: right;\">\n",
       "      <th></th>\n",
       "      <th>ID</th>\n",
       "      <th>Name</th>\n",
       "      <th>Sex</th>\n",
       "      <th>Age</th>\n",
       "      <th>Height</th>\n",
       "      <th>Weight</th>\n",
       "      <th>Team</th>\n",
       "      <th>NOC</th>\n",
       "      <th>Games</th>\n",
       "      <th>Year</th>\n",
       "      <th>Season</th>\n",
       "      <th>City</th>\n",
       "      <th>Sport</th>\n",
       "      <th>Event</th>\n",
       "      <th>Medal</th>\n",
       "    </tr>\n",
       "  </thead>\n",
       "  <tbody>\n",
       "    <tr>\n",
       "      <th>0</th>\n",
       "      <td>1</td>\n",
       "      <td>A Dijiang</td>\n",
       "      <td>M</td>\n",
       "      <td>24.0</td>\n",
       "      <td>180.0</td>\n",
       "      <td>80.0</td>\n",
       "      <td>China</td>\n",
       "      <td>CHN</td>\n",
       "      <td>1992 Summer</td>\n",
       "      <td>1992</td>\n",
       "      <td>Summer</td>\n",
       "      <td>Barcelona</td>\n",
       "      <td>Basketball</td>\n",
       "      <td>Basketball Men's Basketball</td>\n",
       "      <td>NaN</td>\n",
       "    </tr>\n",
       "    <tr>\n",
       "      <th>1</th>\n",
       "      <td>2</td>\n",
       "      <td>A Lamusi</td>\n",
       "      <td>M</td>\n",
       "      <td>23.0</td>\n",
       "      <td>170.0</td>\n",
       "      <td>60.0</td>\n",
       "      <td>China</td>\n",
       "      <td>CHN</td>\n",
       "      <td>2012 Summer</td>\n",
       "      <td>2012</td>\n",
       "      <td>Summer</td>\n",
       "      <td>London</td>\n",
       "      <td>Judo</td>\n",
       "      <td>Judo Men's Extra-Lightweight</td>\n",
       "      <td>NaN</td>\n",
       "    </tr>\n",
       "    <tr>\n",
       "      <th>2</th>\n",
       "      <td>3</td>\n",
       "      <td>Gunnar Nielsen Aaby</td>\n",
       "      <td>M</td>\n",
       "      <td>24.0</td>\n",
       "      <td>NaN</td>\n",
       "      <td>NaN</td>\n",
       "      <td>Denmark</td>\n",
       "      <td>DEN</td>\n",
       "      <td>1920 Summer</td>\n",
       "      <td>1920</td>\n",
       "      <td>Summer</td>\n",
       "      <td>Antwerpen</td>\n",
       "      <td>Football</td>\n",
       "      <td>Football Men's Football</td>\n",
       "      <td>NaN</td>\n",
       "    </tr>\n",
       "    <tr>\n",
       "      <th>3</th>\n",
       "      <td>4</td>\n",
       "      <td>Edgar Lindenau Aabye</td>\n",
       "      <td>M</td>\n",
       "      <td>34.0</td>\n",
       "      <td>NaN</td>\n",
       "      <td>NaN</td>\n",
       "      <td>Denmark/Sweden</td>\n",
       "      <td>DEN</td>\n",
       "      <td>1900 Summer</td>\n",
       "      <td>1900</td>\n",
       "      <td>Summer</td>\n",
       "      <td>Paris</td>\n",
       "      <td>Tug-Of-War</td>\n",
       "      <td>Tug-Of-War Men's Tug-Of-War</td>\n",
       "      <td>Gold</td>\n",
       "    </tr>\n",
       "    <tr>\n",
       "      <th>4</th>\n",
       "      <td>5</td>\n",
       "      <td>Christine Jacoba Aaftink</td>\n",
       "      <td>F</td>\n",
       "      <td>21.0</td>\n",
       "      <td>185.0</td>\n",
       "      <td>82.0</td>\n",
       "      <td>Netherlands</td>\n",
       "      <td>NED</td>\n",
       "      <td>1988 Winter</td>\n",
       "      <td>1988</td>\n",
       "      <td>Winter</td>\n",
       "      <td>Calgary</td>\n",
       "      <td>Speed Skating</td>\n",
       "      <td>Speed Skating Women's 500 metres</td>\n",
       "      <td>NaN</td>\n",
       "    </tr>\n",
       "  </tbody>\n",
       "</table>\n",
       "</div>"
      ],
      "text/plain": [
       "   ID                      Name Sex   Age  Height  Weight            Team  \\\n",
       "0   1                 A Dijiang   M  24.0   180.0    80.0           China   \n",
       "1   2                  A Lamusi   M  23.0   170.0    60.0           China   \n",
       "2   3       Gunnar Nielsen Aaby   M  24.0     NaN     NaN         Denmark   \n",
       "3   4      Edgar Lindenau Aabye   M  34.0     NaN     NaN  Denmark/Sweden   \n",
       "4   5  Christine Jacoba Aaftink   F  21.0   185.0    82.0     Netherlands   \n",
       "\n",
       "   NOC        Games  Year  Season       City          Sport  \\\n",
       "0  CHN  1992 Summer  1992  Summer  Barcelona     Basketball   \n",
       "1  CHN  2012 Summer  2012  Summer     London           Judo   \n",
       "2  DEN  1920 Summer  1920  Summer  Antwerpen       Football   \n",
       "3  DEN  1900 Summer  1900  Summer      Paris     Tug-Of-War   \n",
       "4  NED  1988 Winter  1988  Winter    Calgary  Speed Skating   \n",
       "\n",
       "                              Event Medal  \n",
       "0       Basketball Men's Basketball   NaN  \n",
       "1      Judo Men's Extra-Lightweight   NaN  \n",
       "2           Football Men's Football   NaN  \n",
       "3       Tug-Of-War Men's Tug-Of-War  Gold  \n",
       "4  Speed Skating Women's 500 metres   NaN  "
      ]
     },
     "execution_count": 3,
     "metadata": {},
     "output_type": "execute_result"
    }
   ],
   "source": [
    "dt.head()"
   ]
  },
  {
   "cell_type": "markdown",
   "id": "8fa023bb",
   "metadata": {},
   "source": [
    "# Number of unique participants at the 2012 London Olympics"
   ]
  },
  {
   "cell_type": "code",
   "execution_count": 4,
   "id": "4b4a6214",
   "metadata": {},
   "outputs": [
    {
     "name": "stdout",
     "output_type": "stream",
     "text": [
      "Number of unique participants at the 2012 London Olympics =  10517\n"
     ]
    }
   ],
   "source": [
    "l12 = dt[dt['Year']==2012]\n",
    "unique_participants = l12['ID'].unique()\n",
    "print(\"Number of unique participants at the 2012 London Olympics = \",unique_participants.size)\n",
    "      "
   ]
  },
  {
   "cell_type": "markdown",
   "id": "5110a31a",
   "metadata": {},
   "source": [
    "# Number of unique male and female participants at the 2008 Beijing Olympics"
   ]
  },
  {
   "cell_type": "code",
   "execution_count": 5,
   "id": "5bb6f351",
   "metadata": {},
   "outputs": [
    {
     "name": "stdout",
     "output_type": "stream",
     "text": [
      "Number of unique male participants =  6290\n",
      "Number of unique female participants =  4609\n"
     ]
    }
   ],
   "source": [
    "b08 = dt[dt['City']==\"Beijing\"]\n",
    "b08f = b08[b08['Sex']==\"F\"]\n",
    "b08m = b08[b08['Sex']==\"M\"]\n",
    "print(\"Number of unique male participants = \",b08m[\"ID\"].nunique())\n",
    "print(\"Number of unique female participants = \",b08f[\"ID\"].nunique())"
   ]
  },
  {
   "cell_type": "markdown",
   "id": "ba4e1fa8",
   "metadata": {},
   "source": [
    "# Top 10 Athletes with most medals"
   ]
  },
  {
   "cell_type": "code",
   "execution_count": 6,
   "id": "68a2e337",
   "metadata": {},
   "outputs": [
    {
     "name": "stdout",
     "output_type": "stream",
     "text": [
      "Michael Fred Phelps, II                            28\n",
      "Larysa Semenivna Latynina (Diriy-)                 18\n",
      "Nikolay Yefimovich Andrianov                       15\n",
      "Borys Anfiyanovych Shakhlin                        13\n",
      "Ole Einar Bjrndalen                                13\n",
      "Takashi Ono                                        13\n",
      "Dara Grace Torres (-Hoffman, -Minas)               12\n",
      "Aleksey Yuryevich Nemov                            12\n",
      "Jennifer Elisabeth \"Jenny\" Thompson (-Cumpelik)    12\n",
      "Paavo Johannes Nurmi                               12\n",
      "Name: Name, dtype: int64\n"
     ]
    }
   ],
   "source": [
    "dt1 = dt.dropna()\n",
    "print(dt1.Name.value_counts().head(n=10))"
   ]
  },
  {
   "cell_type": "markdown",
   "id": "f6db56b4",
   "metadata": {},
   "source": [
    "# No of Participating countries year-wise"
   ]
  },
  {
   "cell_type": "code",
   "execution_count": 8,
   "id": "b58d77b2",
   "metadata": {},
   "outputs": [
    {
     "data": {
      "text/plain": [
       "Year\n",
       "1896     18\n",
       "1900    190\n",
       "1904     79\n",
       "1906     52\n",
       "1908     73\n",
       "1912    102\n",
       "1920     72\n",
       "1924     93\n",
       "1928     85\n",
       "1932     72\n",
       "1936    132\n",
       "1948    131\n",
       "1952    155\n",
       "1956    149\n",
       "1960    196\n",
       "1964    199\n",
       "1968    145\n",
       "1972    157\n",
       "1976    126\n",
       "1980    111\n",
       "1984    179\n",
       "1988    211\n",
       "1992    239\n",
       "1994    101\n",
       "1996    246\n",
       "1998    106\n",
       "2000    243\n",
       "2002    114\n",
       "2004    260\n",
       "2006    113\n",
       "2008    292\n",
       "2010    116\n",
       "2012    245\n",
       "2014    119\n",
       "2016    249\n",
       "Name: Team, dtype: int64"
      ]
     },
     "execution_count": 8,
     "metadata": {},
     "output_type": "execute_result"
    }
   ],
   "source": [
    "dt.groupby([\"Year\"])[\"Team\"].nunique()"
   ]
  },
  {
   "cell_type": "code",
   "execution_count": null,
   "id": "1357684b",
   "metadata": {},
   "outputs": [],
   "source": []
  }
 ],
 "metadata": {
  "kernelspec": {
   "display_name": "Python 3 (ipykernel)",
   "language": "python",
   "name": "python3"
  },
  "language_info": {
   "codemirror_mode": {
    "name": "ipython",
    "version": 3
   },
   "file_extension": ".py",
   "mimetype": "text/x-python",
   "name": "python",
   "nbconvert_exporter": "python",
   "pygments_lexer": "ipython3",
   "version": "3.9.7"
  }
 },
 "nbformat": 4,
 "nbformat_minor": 5
}
